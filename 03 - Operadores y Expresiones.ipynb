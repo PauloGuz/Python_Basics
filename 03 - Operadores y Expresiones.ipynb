{
 "cells": [
  {
   "cell_type": "markdown",
   "id": "1acff66f-3c2d-4afc-9df7-6a7784f8998f",
   "metadata": {},
   "source": [
    "# Operadores y Expresiones en Python"
   ]
  },
  {
   "cell_type": "markdown",
   "id": "9ffa3d5b-1aab-4d6a-8b27-fd837129b8c0",
   "metadata": {},
   "source": [
    "## 1. Introducción\n",
    "\n",
    "En este capítulo, exploraremos los operadores y las expresiones en Python, que son fundamentales para realizar operaciones matemáticas, comparaciones y manipulaciones lógicas."
   ]
  },
  {
   "cell_type": "markdown",
   "id": "20fb5b8f-8ef5-4412-adea-a86b66a9ee10",
   "metadata": {},
   "source": [
    "## 2. Operadores Aritméticos\n",
    "\n",
    "Los operadores aritméticos se utilizan para realizar operaciones matemáticas.\n",
    "\n",
    "### Ejemplo:\n",
    "\n",
    "```python\n",
    "x = 10\n",
    "y = 5\n",
    "suma = x + y\n",
    "resta = x - y\n",
    "multiplicacion = x * y\n",
    "division = x / y\n",
    "modulo = x % y\n",
    "exponente = x ** y\n",
    "division_entera = x // y\n",
    "```"
   ]
  },
  {
   "cell_type": "markdown",
   "id": "9e31054b-244c-4c3c-be62-f58f253f2f1d",
   "metadata": {},
   "source": [
    "## 3. Operadores de Comparación\n",
    "\n",
    "Los operadores de comparación se utilizan para comparar valores.\n",
    "\n",
    "### Ejemplo:\n",
    "\n",
    "```python\n",
    "x = 10\n",
    "y = 5\n",
    "es_igual = x == y\n",
    "es_diferente = x != y\n",
    "es_mayor = x > y\n",
    "es_menor = x < y\n",
    "es_mayor_o_igual = x >= y\n",
    "es_menor_o_igual = x <= y\n",
    "```"
   ]
  },
  {
   "cell_type": "markdown",
   "id": "77266c9b-c56d-4874-995b-04ffe82dc397",
   "metadata": {},
   "source": [
    "## 4. Operadores Lógicos\n",
    "\n",
    "Los operadores lógicos se utilizan para combinar declaraciones condicionales.\n",
    "\n",
    "### Ejemplo:\n",
    "\n",
    "```python\n",
    "x = True\n",
    "y = False\n",
    "and_result = x and y\n",
    "or_result = x or y\n",
    "not_result = not x\n",
    "```"
   ]
  },
  {
   "cell_type": "markdown",
   "id": "6225ce43-f388-4b72-aa6b-add5892a84ee",
   "metadata": {},
   "source": [
    "## 5. Operadores de Asignación\n",
    "\n",
    "Los operadores de asignación se utilizan para asignar valores a las variables. Además del operador de asignación básico `=`, hay otros operadores que combinan la asignación con operaciones aritméticas.\n",
    "\n",
    "### Ejemplo:\n",
    "\n",
    "```python\n",
    "x = 10          # Asignación simple: x se asigna 10\n",
    "x += 5          # Suma y asignación: x se asigna x + 5 (15)\n",
    "x -= 3          # Resta y asignación: x se asigna x - 3 (12)\n",
    "x *= 2          # Multiplicación y asignación: x se asigna x * 2 (24)\n",
    "x /= 2          # División y asignación: x se asigna x / 2 (12)\n",
    "x %= 3          # Módulo y asignación: x se asigna x % 3 (0)\n",
    "```\n",
    "\n",
    "Estos operadores ofrecen una forma concisa de realizar una operación en una variable y luego asignar el resultado de nuevo a esa variable. Por ejemplo, el operador `+=` suma el valor en la variable a la derecha del operador al valor en la variable a la izquierda y luego asigna el resultado a la variable a la izquierda."
   ]
  },
  {
   "cell_type": "markdown",
   "id": "6cd1ebe1-cc48-4565-87f8-dbad372c2525",
   "metadata": {},
   "source": [
    "## 6. Operadores de Pertenencia e Identidad\n",
    "\n",
    "### Operadores de Pertenencia\n",
    "\n",
    "Estos operadores prueban si un objeto es miembro de una secuencia.\n",
    "\n",
    "### Ejemplo:\n",
    "\n",
    "```python\n",
    "x = [1, 2, 3]\n",
    "y = 2\n",
    "resultado = y in x\n",
    "```\n",
    "\n",
    "### Operadores de Identidad\n",
    "\n",
    "Estos operadores prueban si dos variables apuntan al mismo objeto.\n",
    "\n",
    "### Ejemplo:\n",
    "\n",
    "```python\n",
    "x = [1, 2, 3]\n",
    "y = x\n",
    "resultado = y is x\n",
    "```"
   ]
  },
  {
   "cell_type": "markdown",
   "id": "502a875e-e895-44a2-83b9-bdd650464b29",
   "metadata": {},
   "source": [
    "## 7. Resumen\n",
    "\n",
    "En este capítulo, hemos explorado los diferentes tipos de operadores en Python, incluyendo operadores aritméticos, de comparación, lógicos, de asignación, de pertenencia y de identidad. Estos operadores son fundamentales para realizar cálculos, comparaciones y pruebas lógicas, y forman la base para escribir expresiones complejas en Python."
   ]
  }
 ],
 "metadata": {
  "kernelspec": {
   "display_name": "Python 3 (ipykernel)",
   "language": "python",
   "name": "python3"
  },
  "language_info": {
   "codemirror_mode": {
    "name": "ipython",
    "version": 3
   },
   "file_extension": ".py",
   "mimetype": "text/x-python",
   "name": "python",
   "nbconvert_exporter": "python",
   "pygments_lexer": "ipython3",
   "version": "3.11.3"
  }
 },
 "nbformat": 4,
 "nbformat_minor": 5
}
