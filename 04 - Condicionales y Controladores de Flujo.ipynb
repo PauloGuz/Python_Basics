{
 "cells": [
  {
   "cell_type": "markdown",
   "id": "16a0ca5a-5058-4026-9e74-675c9d60f396",
   "metadata": {},
   "source": [
    "# Condicionales y Controladores de Flujo en Python"
   ]
  },
  {
   "cell_type": "markdown",
   "id": "3ac6816d-6d04-475b-a24d-0c0023af673b",
   "metadata": {},
   "source": [
    "## 1. Introducción\n",
    "\n",
    "Los condicionales y controladores de flujo en Python permiten escribir programas que toman decisiones y repiten acciones. En este capítulo, exploraremos las instrucciones condicionales y los bucles."
   ]
  },
  {
   "cell_type": "markdown",
   "id": "ee2336fc-d5df-4fa2-abd1-fd751f03908b",
   "metadata": {},
   "source": [
    "## 2. Instrucciones Condicionales\n",
    "\n",
    "### `if` Statement\n",
    "\n",
    "La instrucción `if` permite ejecutar un bloque de código si una condición es verdadera.\n",
    "\n",
    "#### Ejemplo:\n",
    "\n",
    "```python\n",
    "x = 10\n",
    "if x > 5:\n",
    "    print('x es mayor que 5')\n",
    "```\n",
    "\n",
    "### `elif` Statement\n",
    "\n",
    "La instrucción `elif` se utiliza después de `if` para comprobar múltiples condiciones.\n",
    "\n",
    "#### Ejemplo:\n",
    "\n",
    "```python\n",
    "x = 10\n",
    "if x > 20:\n",
    "    print('x es mayor que 20')\n",
    "elif x > 5:\n",
    "    print('x es mayor que 5')\n",
    "```\n",
    "\n",
    "### `else` Statement\n",
    "\n",
    "La instrucción `else` se utiliza para ejecutar un bloque de código si las condiciones anteriores no se cumplen.\n",
    "\n",
    "#### Ejemplo:\n",
    "\n",
    "```python\n",
    "x = 3\n",
    "if x > 5:\n",
    "    print('x es mayor que 5')\n",
    "else:\n",
    "    print('x no es mayor que 5')\n",
    "```"
   ]
  },
  {
   "cell_type": "markdown",
   "id": "8c6a38e5-a090-48a7-824a-c20e05ab84bb",
   "metadata": {},
   "source": [
    "## 3. Bucles\n",
    "\n",
    "### `for` Loop\n",
    "\n",
    "El bucle `for` se utiliza para iterar sobre una secuencia.\n",
    "\n",
    "#### Ejemplo:\n",
    "\n",
    "```python\n",
    "for i in range(5):\n",
    "    print(i)\n",
    "```\n",
    "\n",
    "### `while` Loop\n",
    "\n",
    "El bucle `while` se ejecuta mientras una condición sea verdadera.\n",
    "\n",
    "#### Ejemplo:\n",
    "\n",
    "```python\n",
    "x = 0\n",
    "while x < 5:\n",
    "    print(x)\n",
    "    x += 1\n",
    "```"
   ]
  },
  {
   "cell_type": "markdown",
   "id": "89776019-9332-4cf3-848f-1c6cc4808215",
   "metadata": {},
   "source": [
    "## 4. Controles de Bucle\n",
    "\n",
    "### `break`\n",
    "\n",
    "Interrumpe el bucle, saliendo de él completamente.\n",
    "\n",
    "#### Ejemplo:\n",
    "\n",
    "```python\n",
    "for i in range(5):\n",
    "    if i == 3:\n",
    "        break\n",
    "    print(i)  # Imprimirá 0, 1, 2\n",
    "```\n",
    "\n",
    "### `continue`\n",
    "\n",
    "Salta a la siguiente iteración del bucle, omitiendo el código restante en la iteración actual.\n",
    "\n",
    "#### Ejemplo:\n",
    "\n",
    "```python\n",
    "for i in range(5):\n",
    "    if i == 3:\n",
    "        continue\n",
    "    print(i)  # Imprimirá 0, 1, 2, 4\n",
    "```\n",
    "\n",
    "### `pass`\n",
    "\n",
    "Es una operación nula; no pasa nada cuando se ejecuta. Puede ser útil como un marcador de posición.\n",
    "\n",
    "#### Ejemplo:\n",
    "\n",
    "```python\n",
    "for i in range(5):\n",
    "    if i == 3:\n",
    "        pass  # No hace nada, continúa con la siguiente iteración\n",
    "    print(i)  # Imprimirá 0, 1, 2, 3, 4\n",
    "```\n"
   ]
  },
  {
   "cell_type": "markdown",
   "id": "366f6c4a-3d8e-4acc-b53b-629a246b5329",
   "metadata": {},
   "source": [
    "## 5. Resumen\n",
    "\n",
    "En este capítulo, hemos explorado las instrucciones condicionales (`if`, `elif`, `else`) y los controladores de flujo (`for`, `while`) en Python. Además, hemos discutido los controles de bucle como `break`, `continue`, y `pass`. Estas estructuras permiten crear programas complejos que puedan tomar decisiones y repetir acciones según sea necesario."
   ]
  }
 ],
 "metadata": {
  "kernelspec": {
   "display_name": "Python 3 (ipykernel)",
   "language": "python",
   "name": "python3"
  },
  "language_info": {
   "codemirror_mode": {
    "name": "ipython",
    "version": 3
   },
   "file_extension": ".py",
   "mimetype": "text/x-python",
   "name": "python",
   "nbconvert_exporter": "python",
   "pygments_lexer": "ipython3",
   "version": "3.11.3"
  }
 },
 "nbformat": 4,
 "nbformat_minor": 5
}
